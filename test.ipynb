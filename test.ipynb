{
 "cells": [
  {
   "cell_type": "code",
   "execution_count": 29,
   "outputs": [
    {
     "name": "stdout",
     "output_type": "stream",
     "text": [
      "Start create seed Vocab. \n",
      "start word count\n",
      "start substring count\n",
      "17.140061532987676\n",
      "Seed Vocab Completed. \n"
     ]
    }
   ],
   "source": [
    "from src.unigram import UnigramTokenizer\n",
    "tokenizer = UnigramTokenizer(corpus_path='text_mag.txt')\n",
    "vocab, wordcount = tokenizer.init_word_count()\n"
   ],
   "metadata": {
    "collapsed": false,
    "ExecuteTime": {
     "end_time": "2024-04-14T19:46:10.673470Z",
     "start_time": "2024-04-14T19:46:08.722130Z"
    }
   },
   "id": "initial_id"
  },
  {
   "cell_type": "code",
   "execution_count": 30,
   "outputs": [
    {
     "name": "stdout",
     "output_type": "stream",
     "text": [
      "4.066539721073805\n",
      "5.811912635886514\n",
      "16.041449244319566\n",
      "16.44691435242773\n",
      "9.763553406661456\n",
      "16.44691435242773\n",
      "4.266970099727252\n"
     ]
    }
   ],
   "source": [
    "print(vocab['a'])\n",
    "print(vocab['b'])\n",
    "print(vocab['xx'])\n",
    "print(vocab['Martello'])\n",
    "print(vocab['years'])\n",
    "print(vocab['cannot'])\n",
    "print(vocab['s'])"
   ],
   "metadata": {
    "collapsed": false,
    "ExecuteTime": {
     "end_time": "2024-04-14T19:46:10.674103Z",
     "start_time": "2024-04-14T19:46:10.665748Z"
    }
   },
   "id": "1ea3a83e7416ddfb"
  },
  {
   "cell_type": "code",
   "execution_count": 31,
   "outputs": [],
   "source": [
    "from collections import defaultdict\n",
    "import igraph as ig\n",
    "\n",
    "class TreeNode:\n",
    "    def __init__(self, val, depth, left, right, score):\n",
    "        self.val = val\n",
    "        self.left = left\n",
    "        self.right = right\n",
    "        self.depth = depth\n",
    "        self.score = score\n",
    "\n",
    "def span_scores(s):\n",
    "    if s == ' ':\n",
    "        return 50\n",
    "    if s[0] == ' ':\n",
    "        s = s[1:]\n",
    "    if s not in vocab:\n",
    "        return 17.140061532987676\n",
    "    else:\n",
    "        return vocab[s]\n",
    "\n",
    "def cky_parse(sentence, span_scores):\n",
    "    n = len(sentence)\n",
    "    dp = defaultdict(lambda: defaultdict(int))\n",
    "    bp = defaultdict(TreeNode)\n",
    "\n",
    "    # Initialize the diagonal entries\n",
    "    for i in range(n):\n",
    "        char = sentence[i]\n",
    "        dp[i][i + 1] = span_scores(sentence[i:i + 1])\n",
    "        bp[(i,i+1)] = TreeNode(sentence[i:i + 1], 1, None, None, dp[i][i + 1])\n",
    "\n",
    "    # Apply the CKY algorithm\n",
    "    for span in range(2, n + 1):\n",
    "        for start in range(n - span + 1):\n",
    "            end = start + span\n",
    "            for split in range(start + 1, end):\n",
    "                score = dp[start][split] + dp[split][end] + span_scores(sentence[start:end])\n",
    "                if score < dp[start][end] or dp[start][end] == 0.0:\n",
    "                    dp[start][end] = score\n",
    "                    bp[(start,end)] = TreeNode(sentence[start:end], span, bp[(start,split)], bp[(split,end)], score)\n",
    "\n",
    "    # Find the best parse tree\n",
    "    best_parse = bp[(0,n)]\n",
    "    return best_parse\n",
    "\n",
    "def plot_parse_tree(parse_tree):\n",
    "    # Create the igraph object\n",
    "    g = ig.Graph(directed=True)\n",
    "    nodes = []\n",
    "    edges = []\n",
    "\n",
    "    # Add nodes to the graph\n",
    "    def add_node(node):\n",
    "        if node is None:\n",
    "            return\n",
    "        node_id = len(nodes)\n",
    "        nodes.append(node)\n",
    "        g.add_vertex(node.val)\n",
    "        if node.left:\n",
    "            add_node(node.left)\n",
    "            edges.append((node_id, len(nodes) - 1))\n",
    "        if node.right:\n",
    "            add_node(node.right)\n",
    "            edges.append((node_id, len(nodes) - 1))\n",
    "\n",
    "    add_node(parse_tree)\n",
    "\n",
    "    # Add edges to the graph\n",
    "    g.add_edges(edges)\n",
    "\n",
    "    # Plot the graph\n",
    "    layout = g.layout(\"tree\")\n",
    "    plot = ig.plot(g, layout=layout, vertex_label=g.vs[\"name\"], bbox=(1000, 1000), margin=20)\n",
    "    plot.save(\"parsetree.png\")\n",
    "\n",
    "# Example usage\n",
    "sentence = \"The mid-2000s unstoppable cannot makes differences.\"\n",
    "\n",
    "parse_tree = cky_parse(sentence, span_scores)\n",
    "plot_parse_tree(parse_tree)"
   ],
   "metadata": {
    "collapsed": false,
    "ExecuteTime": {
     "end_time": "2024-04-14T19:46:10.679881Z",
     "start_time": "2024-04-14T19:46:10.678892Z"
    }
   },
   "id": "a7feb17bbdcf1b6a"
  },
  {
   "cell_type": "code",
   "execution_count": 54,
   "outputs": [],
   "source": [
    "from transformers import GPT2Tokenizer, GPT2Model\n",
    "from datasets import load_dataset, load_metric\n",
    "import torch\n",
    "import numpy as np\n",
    "\n",
    "tokenizer = GPT2Tokenizer.from_pretrained('gpt2')\n",
    "# model = GPT2Model.from_pretrained('gpt2')"
   ],
   "metadata": {
    "collapsed": false,
    "ExecuteTime": {
     "end_time": "2024-04-15T18:50:37.493296Z",
     "start_time": "2024-04-15T18:50:37.332569Z"
    }
   },
   "id": "8d064c95141d6e"
  },
  {
   "cell_type": "code",
   "execution_count": 81,
   "outputs": [
    {
     "name": "stdout",
     "output_type": "stream",
     "text": [
      "50256\n",
      "=\n",
      "[464]\n",
      "The\n"
     ]
    }
   ],
   "source": [
    "text = \"The\"\n",
    "print(tokenizer.convert_tokens_to_ids(\"cann\"))\n",
    "print(tokenizer.convert_ids_to_tokens(28))\n",
    "# Encode the text, which converts the text to a sequence of token IDs\n",
    "encoded_text = tokenizer.encode(text=text, add_special_tokens=True)\n",
    "print(encoded_text)\n",
    "decoded_text = tokenizer.decode(encoded_text, skip_special_tokens=True)\n",
    "print(decoded_text)"
   ],
   "metadata": {
    "collapsed": false,
    "ExecuteTime": {
     "end_time": "2024-04-15T19:19:33.813223Z",
     "start_time": "2024-04-15T19:19:33.811348Z"
    }
   },
   "id": "1acd832cefc8239d"
  },
  {
   "cell_type": "markdown",
   "source": [
    "((During)(( the)( bubble years((( o)f)(((( the)( mid-))2000)(s.)))))))"
   ],
   "metadata": {
    "collapsed": false,
    "ExecuteTime": {
     "end_time": "2024-04-14T19:46:37.365456Z",
     "start_time": "2024-04-14T19:46:37.028202Z"
    }
   },
   "id": "7842e97973e20668"
  },
  {
   "cell_type": "code",
   "execution_count": null,
   "outputs": [],
   "source": [],
   "metadata": {
    "collapsed": false
   },
   "id": "22fe0bea7e690420"
  }
 ],
 "metadata": {
  "kernelspec": {
   "display_name": "Python 3",
   "language": "python",
   "name": "python3"
  },
  "language_info": {
   "codemirror_mode": {
    "name": "ipython",
    "version": 2
   },
   "file_extension": ".py",
   "mimetype": "text/x-python",
   "name": "python",
   "nbconvert_exporter": "python",
   "pygments_lexer": "ipython2",
   "version": "2.7.6"
  }
 },
 "nbformat": 4,
 "nbformat_minor": 5
}
